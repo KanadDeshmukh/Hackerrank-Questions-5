{
 "cells": [
  {
   "cell_type": "markdown",
   "id": "6714a32a",
   "metadata": {},
   "source": [
    "## Hackerrank Questions "
   ]
  },
  {
   "cell_type": "markdown",
   "id": "b1b17a28",
   "metadata": {},
   "source": [
    "Q1. https://www.hackerrank.com/challenges/xml-1-find-the-score/problem"
   ]
  },
  {
   "cell_type": "code",
   "execution_count": null,
   "id": "b37609b8",
   "metadata": {},
   "outputs": [],
   "source": [
    "import sys\n",
    "import xml.etree.ElementTree as etree\n",
    "\n",
    "def get_attr_number(node):\n",
    "    return len(node.attrib) + sum(map(get_attr_number, node))\n",
    "\n",
    "if __name__ == '__main__':\n",
    "    sys.stdin.readline()\n",
    "    xml = sys.stdin.read()\n",
    "    tree = etree.ElementTree(etree.fromstring(xml))\n",
    "    root = tree.getroot()\n",
    "    print(get_attr_number(root))"
   ]
  },
  {
   "cell_type": "markdown",
   "id": "36740983",
   "metadata": {},
   "source": [
    "Q2. https://www.hackerrank.com/challenges/xml2-find-the-maximum-depth/problem"
   ]
  },
  {
   "cell_type": "code",
   "execution_count": null,
   "id": "49a146c1",
   "metadata": {},
   "outputs": [],
   "source": [
    "import xml.etree.ElementTree as etree\n",
    "\n",
    "maxdepth = 0\n",
    "def depth(elem, level):\n",
    "    global maxdepth\n",
    "    # your code goes here\n",
    "    \n",
    "    if len(elem) >= 0: # Making sure the element is not an empty string\n",
    "        level += 1 # Since it's not empty add a level\n",
    "        \n",
    "        if level >= maxdepth: # If this level is deeper than previous one assign new one to maxdepth\n",
    "            maxdepth = level\n",
    "        \n",
    "        for child in elem: # Recursive-like procedure\n",
    "            depth(child, level)\n",
    "if __name__ == '__main__':\n",
    "    n = int(input())\n",
    "    xml = \"\"\n",
    "    for i in range(n):\n",
    "        xml =  xml + input() + \"\\n\"\n",
    "    tree = etree.ElementTree(etree.fromstring(xml))\n",
    "    depth(tree.getroot(), -1)\n",
    "    print(maxdepth)"
   ]
  }
 ],
 "metadata": {
  "kernelspec": {
   "display_name": "Python 3 (ipykernel)",
   "language": "python",
   "name": "python3"
  },
  "language_info": {
   "codemirror_mode": {
    "name": "ipython",
    "version": 3
   },
   "file_extension": ".py",
   "mimetype": "text/x-python",
   "name": "python",
   "nbconvert_exporter": "python",
   "pygments_lexer": "ipython3",
   "version": "3.9.6"
  }
 },
 "nbformat": 4,
 "nbformat_minor": 5
}
